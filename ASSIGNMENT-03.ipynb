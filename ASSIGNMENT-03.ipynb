{
 "cells": [
  {
   "cell_type": "markdown",
   "id": "60c5625e-e299-4859-bac5-4d5b97176474",
   "metadata": {},
   "source": [
    "## ASSIGNMENT-3"
   ]
  },
  {
   "cell_type": "markdown",
   "id": "a1eaeaf7-fd92-4026-be23-3ac6938be131",
   "metadata": {},
   "source": [
    "**Date:-26-06-2024**\n",
    "     -  **Write Python Programe for the following**"
   ]
  },
  {
   "cell_type": "markdown",
   "id": "0b9f78c5-13e2-4647-89d0-55368c5f5a0e",
   "metadata": {},
   "source": [
    "     1. Ramesh’s basic salary is input through the keyboard. His dearness allowance is 40% of basic salary,and\n",
    "        house rent allowance is 20% of basic salary. Write a program to calculate his gross salary."
   ]
  },
  {
   "cell_type": "code",
   "execution_count": 9,
   "id": "55a18b3b-e693-45f0-b462-9ed0563ba167",
   "metadata": {},
   "outputs": [
    {
     "name": "stdin",
     "output_type": "stream",
     "text": [
      "Enter the Basic salary: 300000\n"
     ]
    },
    {
     "name": "stdout",
     "output_type": "stream",
     "text": [
      "The Dearness Allowances :120000.0\n",
      "The Rent Allowances :60000.0\n",
      "The Gross Salary :480000.0\n",
      "The GF's/wife's Salary:240000.0\n",
      " GF/Wife-Complain that the salary not enough for me,Given extra Na...For shoping\n"
     ]
    }
   ],
   "source": [
    "#basic salary=BS\n",
    "#Dearness allowance=DA\n",
    "#Dearness allowance percentage=DAP\n",
    "#Rent allowance=RA\n",
    "#Gross salary=GS\n",
    "#GF salary=GFS\n",
    "\n",
    "import random\n",
    "BS=eval(input(\"Enter the Basic salary:\"))\n",
    "DA=0.4*BS\n",
    "RA=0.2*BS\n",
    "GS=BS+DA+RA\n",
    "GFS=GS/2\n",
    "print(f\"The Dearness Allowances :{DA}\")\n",
    "print(f\"The Rent Allowances :{RA}\")\n",
    "print(f\"The Gross Salary :{GS}\") \n",
    "print(f\"The GF's/wife's Salary:{GFS}\")\n",
    "print(f\" GF/Wife-Complain that the salary not enough for me,Given extra Na...For shoping\")\n"
   ]
  },
  {
   "cell_type": "markdown",
   "id": "5d095b13-2bd9-4d7f-a136-35283d99ffe4",
   "metadata": {},
   "source": [
    "    2. The distance between two cities (in km.) is input through the keyboard. Write a program to convert and\n",
    "        print this distance in meters, feet, inches and centimeters."
   ]
  },
  {
   "cell_type": "code",
   "execution_count": 32,
   "id": "20f561fb-5645-42e1-9454-7cef22b50625",
   "metadata": {},
   "outputs": [
    {
     "name": "stdin",
     "output_type": "stream",
     "text": [
      "The Distance in KM :  2.2\n"
     ]
    },
    {
     "name": "stdout",
     "output_type": "stream",
     "text": [
      "The distance of my friend, GF's Hostel:2200.0 in meter\n",
      "The distance of my friend,GF's Hostel:7217.848000000001 in feet\n",
      "The distance of my friend,GF's Hostel:86614.22 in inces\n",
      "The distance of my friend,GF's Hostel:220000.00000000003 in cm\n",
      "**When we reach the hostel ,we saw the girl going to the mall with her new Boyfriend**\n"
     ]
    }
   ],
   "source": [
    "D=eval(input(\"The Distance in KM : \"))\n",
    "M=float(D*1000)\n",
    "print(f\"The distance of my friend, GF's Hostel:{M} in meter\")\n",
    "F=float(D*3280.84)\n",
    "print(f\"The distance of my friend,GF's Hostel:{F} in feet\")\n",
    "I=float(D*39370.1)\n",
    "print(f\"The distance of my friend,GF's Hostel:{I} in inces\")\n",
    "cm=float(D*100000)\n",
    "print(f\"The distance of my friend,GF's Hostel:{cm} in cm\")\n",
    "print(f\"**When we reach the hostel ,we saw the girl going to the mall with her new Boyfriend**\")"
   ]
  },
  {
   "cell_type": "markdown",
   "id": "74214ce0-51fe-43c5-981b-ffd1df1d05ec",
   "metadata": {},
   "source": [
    "    3. If the marks obtained by a student in five different subjects are input through the keyboard, find out the\n",
    "       aggregate marks and percentage marks obtained by the student. Assume that the maximum marks that\n",
    "       can be obtained by a student in each subject is 100."
   ]
  },
  {
   "cell_type": "code",
   "execution_count": 33,
   "id": "b2c93336-d2db-4964-bb07-75e902a173e0",
   "metadata": {},
   "outputs": [
    {
     "name": "stdin",
     "output_type": "stream",
     "text": [
      "The total mark of first languge: 30\n",
      "The total mark of second laguage: 40\n",
      "The total mark of Mathmatices: 50\n",
      "The total mark of science : 60\n",
      "The total mark of History: 70\n"
     ]
    },
    {
     "name": "stdout",
     "output_type": "stream",
     "text": [
      "The total mark :250\n",
      "The percentage :50.0\n"
     ]
    }
   ],
   "source": [
    "#First languages=FL\n",
    "#Second languages=SL\n",
    "#Mathmatics=M\n",
    "#Science=S\n",
    "#History=H\n",
    "#total mark=TM\n",
    "#percentage=P\n",
    "FL=eval(input(\"The total mark of first languge:\"))\n",
    "SL=eval(input(\"The total mark of second laguage:\"))\n",
    "M=eval(input(\"The total mark of Mathmatices:\"))\n",
    "S=eval(input(\"The total mark of science :\"))\n",
    "H=eval(input(\"The total mark of History:\"))\n",
    "TM=FL+SL+M+S+H\n",
    "P=(TM/500)*100\n",
    "print(f\"The total mark :{TM}\")\n",
    "print(f\"The percentage :{P}\")\n"
   ]
  },
  {
   "cell_type": "markdown",
   "id": "f1300517-e151-4e25-9cb0-b0e8dab98843",
   "metadata": {},
   "source": [
    "    4. Temperature of a city in Fahrenheit degrees is input through the keyboard. Write a program to convert this\n",
    "       temperature into Centigrade degrees."
   ]
  },
  {
   "cell_type": "code",
   "execution_count": 36,
   "id": "5f8481b1-850a-4630-bcd3-ce6a5bbf2951",
   "metadata": {},
   "outputs": [
    {
     "name": "stdin",
     "output_type": "stream",
     "text": [
      "Enter The temperature in Fahrenheit degrees: 80\n"
     ]
    },
    {
     "name": "stdout",
     "output_type": "stream",
     "text": [
      "The Temperature in Celsius:26.666666666666668\n"
     ]
    }
   ],
   "source": [
    "# Faharenheit=F\n",
    "#centigrate =C\n",
    "F=eval(input(\"Enter The temperature in Fahrenheit degrees:\"))\n",
    "C=float((F-32)*5/9)\n",
    "print(f\"The Temperature in Celsius:{C}\")"
   ]
  },
  {
   "cell_type": "markdown",
   "id": "8fee44ea-fad9-44f9-b952-81e729da2530",
   "metadata": {},
   "source": [
    "    5. The length & breadth of a rectangle and radius of a circle are input through the keyboard. Write a program\n",
    "       to calculate the area & perimeter of the rectangle, and the area & circumference of the circle."
   ]
  },
  {
   "cell_type": "code",
   "execution_count": 38,
   "id": "8a9d866e-8fb5-4aab-ada3-e33ce6d8148b",
   "metadata": {},
   "outputs": [
    {
     "name": "stdin",
     "output_type": "stream",
     "text": [
      "Enter the value of length: 10\n",
      "Enter the value of breath: 20\n",
      "Enter the value of radius: 25\n"
     ]
    },
    {
     "name": "stdout",
     "output_type": "stream",
     "text": [
      "The area of rectangular : 200\n",
      "The perimeter of rectangular:60\n",
      "The area of circle:1963.1250000000002\n",
      "The circumference of circle :157.05\n"
     ]
    }
   ],
   "source": [
    "length=eval(input(\"Enter the value of length:\"))\n",
    "breath=eval(input(\"Enter the value of breath:\"))\n",
    "radius=eval(input(\"Enter the value of radius:\"))\n",
    "pi_value=3.141\n",
    "area_rectangular=length*breath\n",
    "perimeter=2*(length+breath)\n",
    "\n",
    "print(f\"The area of rectangular : {area_rectangular}\")\n",
    "print(f\"The perimeter of rectangular:{perimeter}\")\n",
    "\n",
    "area_circle=pi_value*radius*radius\n",
    "circumference_circle=2*pi_value*radius\n",
    "\n",
    "print(f\"The area of circle:{area_circle}\")\n",
    "print(f\"The circumference of circle :{circumference_circle}\")"
   ]
  },
  {
   "cell_type": "markdown",
   "id": "c8b8fd40-e7af-4565-b5ab-4ef8cf4bac99",
   "metadata": {},
   "source": [
    "    6. Two numbers are input through the keyboard into two locations C and D. Write a program to interchange\n",
    "       the contents of C and D."
   ]
  },
  {
   "cell_type": "code",
   "execution_count": 44,
   "id": "188a4bf1-0b98-43d7-9280-69ac8a376a4d",
   "metadata": {},
   "outputs": [
    {
     "name": "stdin",
     "output_type": "stream",
     "text": [
      "Enter the number C: 10\n",
      "Enter the numberD: 20\n"
     ]
    },
    {
     "name": "stdout",
     "output_type": "stream",
     "text": [
      "Enter the number C:20\n",
      "Enter the number D:10\n"
     ]
    }
   ],
   "source": [
    "C=eval(input(\"Enter the number C:\"))\n",
    "D=eval(input(\"Enter the numberD:\"))\n",
    "print(f\"Enter the number C:{D}\")\n",
    "print(f\"Enter the number D:{C}\")\n"
   ]
  },
  {
   "cell_type": "markdown",
   "id": "089fb1ed-072d-467d-a8d5-8ba67a3ead70",
   "metadata": {},
   "source": [
    "    7. If a five-digit number is input through the keyboard, write a program to reverse the number."
   ]
  },
  {
   "cell_type": "code",
   "execution_count": null,
   "id": "614e8154-2e40-4b82-a766-419b57923230",
   "metadata": {},
   "outputs": [],
   "source": []
  },
  {
   "cell_type": "markdown",
   "id": "4aeb40bd-5eb8-4184-956e-23ed2b7913e3",
   "metadata": {},
   "source": [
    "    8. If a four-digit number is input through the keyboard, write a program to obtain the sum of the first and last\n",
    "       digit of this number."
   ]
  },
  {
   "cell_type": "code",
   "execution_count": null,
   "id": "c44bd746-5ee6-44b2-b715-30ea057ebd8e",
   "metadata": {},
   "outputs": [],
   "source": []
  },
  {
   "cell_type": "markdown",
   "id": "4aa15c6c-eb2f-4898-870b-ec0b1a62af6e",
   "metadata": {},
   "source": [
    "    9. In a town, the percentage of men is 52. The percentage of total literacy is 48. If total percentage of literate\n",
    "       men is 35 of the total population, write a program to find the total number of illiterate men and women if\n",
    "       the population of the town is 80,000."
   ]
  },
  {
   "cell_type": "code",
   "execution_count": 4,
   "id": "d338db64-fce5-420b-9151-a8bfe1bc4936",
   "metadata": {},
   "outputs": [
    {
     "name": "stdout",
     "output_type": "stream",
     "text": [
      "The total men:41600.0\n",
      "The total women :38400.0\n",
      "Total leteracy:38400.0\n",
      "Total leteracy of men :13440.0\n",
      "Total leteracy women :24960.0\n",
      "Total illeteracy of men:24960.0\n",
      "Total illeteracy of women:13440.0\n"
     ]
    }
   ],
   "source": [
    "#total people=TP\n",
    "#men percentage=MP\n",
    "#literacy percentage=LP\n",
    "#literachary man percentage=LMP\n",
    "#total men=TM\n",
    "#total women=TW\n",
    "#total literacy=TL\n",
    "#total literacy men=TLM\n",
    "#total Literacy Women=TLW\n",
    "#total illeterate of men=TIM\n",
    "#total illetrate of women=TIW\n",
    "\n",
    "TP=80000\n",
    "MP=0.52\n",
    "LP=0.48\n",
    "LMP=0.35\n",
    "TM=TP*0.52\n",
    "TW=TP-TM\n",
    "TL=TP*LP\n",
    "TLM=TL*LMP\n",
    "TLW=TL-TLM\n",
    "TIM=TL-TLM\n",
    "TIW=TL-TLW\n",
    "print(f\"The total men:{TM}\")\n",
    "print(f\"The total women :{TW}\")\n",
    "print(f\"Total leteracy:{TL}\")\n",
    "print(f\"Total leteracy of men :{TLM}\")\n",
    "print(f\"Total leteracy women :{TLW}\")\n",
    "print(f\"Total illeteracy of men:{TIM}\")\n",
    "print(F\"Total illeteracy of women:{TIW}\")\n",
    "\n"
   ]
  },
  {
   "cell_type": "markdown",
   "id": "e9c129dc-9b9e-4e38-80bd-e3e3816449e6",
   "metadata": {},
   "source": [
    "    10. A cashier has currency notes of denominations 10, 50 and 100. If the amount to be withdrawn is input\n",
    "        through the keyboard in hundreds, find the total number of currency notes of each denomination the\n",
    "        cashier will have to give to the withdrawer."
   ]
  },
  {
   "cell_type": "code",
   "execution_count": null,
   "id": "48585e8c-30da-4c90-b2e5-8721eefecd3a",
   "metadata": {},
   "outputs": [],
   "source": []
  }
 ],
 "metadata": {
  "kernelspec": {
   "display_name": "Python 3 (ipykernel)",
   "language": "python",
   "name": "python3"
  },
  "language_info": {
   "codemirror_mode": {
    "name": "ipython",
    "version": 3
   },
   "file_extension": ".py",
   "mimetype": "text/x-python",
   "name": "python",
   "nbconvert_exporter": "python",
   "pygments_lexer": "ipython3",
   "version": "3.11.7"
  }
 },
 "nbformat": 4,
 "nbformat_minor": 5
}
