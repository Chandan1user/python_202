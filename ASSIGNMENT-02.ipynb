{
 "cells": [
  {
   "cell_type": "markdown",
   "id": "8a7cfc99-0d2a-4aca-889c-13125f8d2b0b",
   "metadata": {},
   "source": [
    "# ASSIGNMENT-2"
   ]
  },
  {
   "cell_type": "markdown",
   "id": "28ceffd6-49df-4680-acd4-7cfa04f0a2da",
   "metadata": {},
   "source": [
    "**Date:-25-06-2024**\n",
    "     -  **Need to take random value survey**"
   ]
  },
  {
   "cell_type": "markdown",
   "id": "5abe5e29-2980-420c-8a5c-25e267404d3a",
   "metadata": {},
   "source": [
    "    # Question-1 : Ask the user to enter a number. Print out the square of the number,\n",
    "                    Sample output is shown below.\n",
    "                    Enter a number: 5\n",
    "                    The square of 5 is 25."
   ]
  },
  {
   "cell_type": "code",
   "execution_count": 5,
   "id": "d196687c-b6bd-45f0-b802-6f0299d192f8",
   "metadata": {},
   "outputs": [
    {
     "name": "stdout",
     "output_type": "stream",
     "text": [
      "The square of 6 is 36\n"
     ]
    }
   ],
   "source": [
    "#we can take the numbers randomly also\n",
    "import random\n",
    "num=random.randint(5,10)\n",
    "square=num*num\n",
    "print(f\"The square of {num} is {square}\")\n"
   ]
  },
  {
   "cell_type": "markdown",
   "id": "7c54deb5-d99b-4ec1-acb4-928ef946c44b",
   "metadata": {},
   "source": [
    "    # Question-2 : Ask the user to enter a number x. print out x, 2x, 3x, 4x, and 5x,\n",
    "                    each separated by three dashes, like below.\n",
    "                    Enter a number: 7\n",
    "                    7---14---21---28---35"
   ]
  },
  {
   "cell_type": "code",
   "execution_count": 7,
   "id": "883984e3-1b0f-4e79-a042-71dbb0e5a1f1",
   "metadata": {},
   "outputs": [
    {
     "name": "stdout",
     "output_type": "stream",
     "text": [
      "10---20---30---40---50\n"
     ]
    }
   ],
   "source": [
    "import random\n",
    "x=random.randint(7,10)\n",
    "print(x,2*x,3*x,4*x,5*x,sep=\"---\")"
   ]
  },
  {
   "cell_type": "markdown",
   "id": "bc524433-a9f7-487b-b384-f160f7c3cfe4",
   "metadata": {},
   "source": [
    "    # Question-3 : Write a program that asks the user for a weight in kilograms and\n",
    "                converts it to pounds. There are 2.2 pounds in a kilogram."
   ]
  },
  {
   "cell_type": "code",
   "execution_count": 9,
   "id": "a813a71a-6944-4674-a012-277b07b7f96e",
   "metadata": {},
   "outputs": [
    {
     "name": "stdout",
     "output_type": "stream",
     "text": [
      "Enter the value of kg 3 and 0.453592 : 1.360776\n"
     ]
    }
   ],
   "source": [
    "import random\n",
    "lb=random.randint(1,3)\n",
    "one_pound=eval('0.453592')\n",
    "kg=lb*one_pound\n",
    "print(f\"Enter the value of kg {lb} and {one_pound} : {kg}\")"
   ]
  },
  {
   "cell_type": "markdown",
   "id": "f43b2d83-f599-4f21-acff-c55c3898bd17",
   "metadata": {},
   "source": [
    "    # Question-4 : Write a program that asks the user to enter three numbers\n",
    "                 (use three \n",
    "separate input statements)\n",
    "                  .Create variables called total an  averag that hold the sum and \n",
    "                  average of the three numbers and print out the values of total and average.ge.ge."
   ]
  },
  {
   "cell_type": "code",
   "execution_count": 10,
   "id": "4a63ba81-036f-4f4f-b473-58c1351a3b70",
   "metadata": {},
   "outputs": [
    {
     "name": "stdout",
     "output_type": "stream",
     "text": [
      "The average value of 1,9 and 12 :7.333333333333333\n"
     ]
    }
   ],
   "source": [
    "import random\n",
    "num1=random.randint(0,5)\n",
    "num2=random.randint(6,10)\n",
    "num3=random.randint(11,15)\n",
    "add=num1+num2+num3\n",
    "avg=add/3\n",
    "print(f\"The average value of {num1},{num2} and {num3} :{avg}\")\n"
   ]
  },
  {
   "cell_type": "markdown",
   "id": "3a679898-e80c-4b4a-b2e8-6da1eae5141a",
   "metadata": {},
   "source": [
    "     # Question-5 :A lot of cell phones have tip calculators. \n",
    "              Write one. Ask the user for the price of the meal and the percent tip they want to leave.\n",
    "              Then print both the tip amount and the total bill with the tip included."
   ]
  },
  {
   "cell_type": "code",
   "execution_count": null,
   "id": "031c0e06-cef4-4c03-85de-c313a123299d",
   "metadata": {},
   "outputs": [],
   "source": [
    "import random\n",
    "bill=random.randint(1000,2000)\n",
    "tip_percentage=random.randint(10,15)\n",
    "total_tip=bill*tip_percentage/100\n",
    "total_bill=bill+total_tip\n",
    "print(f\"The Total Bill of {bill} ,{tip_percentage} and {total_tip}  :{total_bill}\")"
   ]
  },
  {
   "cell_type": "markdown",
   "id": "53a55466-6a25-46b5-a4ff-9c3a7e79ac4f",
   "metadata": {},
   "source": [
    "    # Question-6 : Write a programme ask the user enter the 2 numbers find the subtraction,addition,\n",
    "                   multiplication and division"
   ]
  },
  {
   "cell_type": "code",
   "execution_count": null,
   "id": "b93706b0-e60a-4e61-a064-53b5642a4661",
   "metadata": {},
   "outputs": [],
   "source": [
    "import random\n",
    "num1=random.randint(0,5)\n",
    "num2=random.randint(6,10)\n",
    "add1=num1+num2\n",
    "mult1=num1*num2\n",
    "sub1=num2-num1\n",
    "div1=num2/num1\n",
    "print(f\"The Numbers of {num1} and {num2} :{add1},{mult1},{sub1},{div1}\")"
   ]
  },
  {
   "cell_type": "markdown",
   "id": "eb8666f7-7988-4050-bd3d-0d6a8585dccc",
   "metadata": {},
   "source": [
    "    # Question-7 : wap ask the user enter radius values and pi value find the area\n",
    "                  of the circle"
   ]
  },
  {
   "cell_type": "code",
   "execution_count": null,
   "id": "16edfec0-ffa0-4811-ae9b-9e0bb7023e3e",
   "metadata": {},
   "outputs": [],
   "source": [
    "import random\n",
    "rad=random.randint(10,15)\n",
    "pi_value=3.141\n",
    "area_circle=pi_value*rad*rad\n",
    "print(f\"Area of circle of {rad} and {pi_value} :{area_circle}\")"
   ]
  },
  {
   "cell_type": "markdown",
   "id": "acd38155-2b0d-4f00-9968-2351fdf31ef0",
   "metadata": {},
   "source": [
    "    # Question-8 : wap ask the user bill amount in dollars, ask the user enter how\n",
    "                  much indian rupees for one dollar print the bill amount in rupees"
   ]
  },
  {
   "cell_type": "code",
   "execution_count": null,
   "id": "60bf7b01-baa5-4a93-87b5-8235ac821bff",
   "metadata": {},
   "outputs": [],
   "source": [
    "import random\n",
    "bill_dollar=random.randint(2,5)\n",
    "one_dollar=random.randint(83,84)\n",
    "bill_rupee=bill_dollar*one_dollar\n",
    "print(f\"The bill amount in Rupee of {bill_dollar} Dollar and {one_dollar} Rupees :{bill_rupee} Rupees\")\n"
   ]
  },
  {
   "cell_type": "markdown",
   "id": "cac77b10-55d1-4db8-ad99-d595a83febe5",
   "metadata": {},
   "source": [
    "    # Question-9 : wap ask the user enter base height calculate area of the triangle."
   ]
  },
  {
   "cell_type": "code",
   "execution_count": null,
   "id": "ddccf8a2-14cb-43e4-9187-c4d74a5ddb30",
   "metadata": {},
   "outputs": [],
   "source": [
    "import random\n",
    "base=random.randint(25,30)\n",
    "height=random.randint(15,15)\n",
    "area_tringle=1/2*base*height\n",
    "print(f\"The area of tringle of {base} and {height} :{area_tringle}\")"
   ]
  },
  {
   "cell_type": "markdown",
   "id": "50a21c1a-d7e8-4654-989c-8bcc5119a6a0",
   "metadata": {},
   "source": [
    "    # Question-10 : wap ask the user enter length and width calculate area of the\n",
    "                   rectangle."
   ]
  },
  {
   "cell_type": "code",
   "execution_count": 2,
   "id": "bb79bf7d-4671-4a9f-b764-0af7430ffd66",
   "metadata": {},
   "outputs": [
    {
     "name": "stdout",
     "output_type": "stream",
     "text": [
      "The area of rectangular 40 and 24 :960\n"
     ]
    }
   ],
   "source": [
    "import random\n",
    "length=random.randint(38,40)\n",
    "width=random.randint(22,25)\n",
    "area_rectangle=length*width\n",
    "print(f\"The area of rectangular {length} and {width} :{area_rectangle}\")"
   ]
  },
  {
   "cell_type": "markdown",
   "id": "656178ed-4df4-4878-a916-738f6ee9b26b",
   "metadata": {},
   "source": [
    "    # Question-11 : Let’s create a story between Father and daughter , You need\n",
    "                    to create a story by using print and input keywords\n",
    "                    You need to develop a python code same like below steps\n",
    "                    The goal of this code is to understand python is step by step\n",
    "                    process.\n",
    "                   : The statement using time.sleep\n",
    "                                        Step-1: input(“ Father: Hey Baby!”)\n",
    "                                        Step-2: input(“Daughter: Hello Dady”)\n",
    "                                        Step-3: input(“Father: I heard your exams are over, what about result”)\n",
    "                                        Step-4: input(“Daughter: Yes dad! Results are out.”)\n",
    "                                        Step-5: input(“Father: what is the percentage?”)\n",
    "                                        Step-6: input(“Daughter: I will give my subject wise marks , you tell me the\n",
    "                                                percentage”)\n",
    "                                        Step-7: input(“Father : Okay!)\n",
    "                                        Step-8: sub1=eval(input(“First Language:”))\n",
    "                                        Step-9: sub2=eval(input(“Second language:”))\n",
    "                                        Step-10: sub3=eval(input(“Third language:”))\n",
    "                                        Step-11: sub4=eval(input(“Science:”))\n",
    "                                        Step-12: sub5=eval(input(“Maths:”))\n",
    "                                        Step-13: Daughter: Dad Now tell me how much percentage I got\n",
    "                                        Step-14: Father: Tell me the max marks of each subject\n",
    "                                        Step-15: max_marks=eval(input(“Daughter:”)) give=100\n",
    "                                        Step-16: calculate the percentage of marks and print it"
   ]
  },
  {
   "cell_type": "code",
   "execution_count": 13,
   "id": "c5613f3f-5088-4ddc-8f73-cdfba161c7bc",
   "metadata": {},
   "outputs": [
    {
     "name": "stdout",
     "output_type": "stream",
     "text": [
      " Father: Hey Baby!\n",
      "Daughter: Hello Dady\n",
      "Father: I heard your exam are over ,what about result\n",
      "Daughter: Yes Dad! Results are out.\n",
      "Father: What is the percentage ?\n",
      "Daughter: I will give my subjectwise marks,you tell me the percentage ?\n",
      "Father: Okey!\n"
     ]
    },
    {
     "name": "stdin",
     "output_type": "stream",
     "text": [
      "First languages : 90\n",
      "Second languages : 89\n",
      "Third Languages : 65\n",
      "Science : 78\n",
      "Maths : 98\n"
     ]
    },
    {
     "name": "stdout",
     "output_type": "stream",
     "text": [
      "The total mark is :420\n",
      "The Percentage is :84.0\n",
      "Daughter: dad Now tell me how much percentage I got\n",
      "Father: Tell me the max marks of each subject\n"
     ]
    },
    {
     "name": "stdin",
     "output_type": "stream",
     "text": [
      "Daughter: 100\n"
     ]
    },
    {
     "name": "stdout",
     "output_type": "stream",
     "text": [
      "Father : your percentage is : 84.0\n"
     ]
    }
   ],
   "source": [
    "import time\n",
    "print(\" Father: Hey Baby!\")\n",
    "time.sleep(2)\n",
    "print(\"Daughter: Hello Dady\")\n",
    "time.sleep(2)\n",
    "print(\"Father: I heard your exam are over ,what about result\")\n",
    "time.sleep(2)\n",
    "print(\"Daughter: Yes Dad! Results are out.\")\n",
    "time.sleep(2)\n",
    "print(\"Father: What is the percentage ?\")\n",
    "time.sleep(2)\n",
    "print(\"Daughter: I will give my subjectwise marks,you tell me the percentage ?\")\n",
    "time.sleep(2)\n",
    "print(\"Father: Okey!\")\n",
    "time.sleep(2)\n",
    "sub_1=eval(input(\"First languages :\"))\n",
    "sub_2=eval(input(\"Second languages :\"))\n",
    "sub_3=eval(input(\"Third Languages :\"))\n",
    "sub_4=eval(input(\"Science :\"))\n",
    "sub_5=eval(input(\"Maths :\"))\n",
    "\n",
    "Total_mark=sub_1+sub_2+sub_3+sub_4+sub_5\n",
    "Total_percentage=(Total_mark/500)*100\n",
    "\n",
    "print(f\"The total mark is :{Total_mark}\")\n",
    "print(f\"The Percentage is :{Total_percentage}\")\n",
    "\n",
    "print(\"Daughter: dad Now tell me how much percentage I got\")\n",
    "time.sleep(2)\n",
    "print(\"Father: Tell me the max marks of each subject\")\n",
    "max_marks=eval(input(\"Daughter:\"))\n",
    "time.sleep(2)\n",
    "print(\"Father : your percentage is : {}\".format(Total_percentage))\n",
    "\n"
   ]
  },
  {
   "cell_type": "code",
   "execution_count": null,
   "id": "ca6862d0-8fa3-4590-a158-57a44e777653",
   "metadata": {},
   "outputs": [],
   "source": []
  }
 ],
 "metadata": {
  "kernelspec": {
   "display_name": "Python 3 (ipykernel)",
   "language": "python",
   "name": "python3"
  },
  "language_info": {
   "codemirror_mode": {
    "name": "ipython",
    "version": 3
   },
   "file_extension": ".py",
   "mimetype": "text/x-python",
   "name": "python",
   "nbconvert_exporter": "python",
   "pygments_lexer": "ipython3",
   "version": "3.11.7"
  }
 },
 "nbformat": 4,
 "nbformat_minor": 5
}
